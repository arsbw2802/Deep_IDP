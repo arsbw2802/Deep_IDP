{
  "cells": [
    {
      "cell_type": "code",
      "execution_count": null,
      "metadata": {
        "id": "lzu8XcjEknCZ"
      },
      "outputs": [],
      "source": [
        "import pandas as pd\n",
        "\n",
        "def load_and_preprocess_ptm_file(filepath, ptm_types):\n",
        "    \n",
        "    columns = [\"Protein_Name\", \"UniProt_ID\", \"Modified_Position\", \"PTM_Type\", \"PubMed_IDs\", \"Local_Sequence\"]\n",
        "    df = pd.read_csv(filepath, sep=\"\\t\", header=None, names=columns, engine=\"python\")\n",
        "    df.dropna(subset=[\"UniProt_ID\", \"Modified_Position\", \"Local_Sequence\"], inplace=True)\n",
        "    df[\"Modified_Position\"] = pd.to_numeric(df[\"Modified_Position\"], errors=\"coerce\")\n",
        "    df[\"Local_Sequence\"] = df[\"Local_Sequence\"].str.strip(\"-\")\n",
        "    if ptm_types is not None:\n",
        "        df = df[df[\"PTM_Type\"].isin(ptm_types)].copy()\n",
        "\n",
        "    return df\n"
      ]
    },
    {
      "cell_type": "code",
      "execution_count": null,
      "metadata": {
        "colab": {
          "base_uri": "https://localhost:8080/"
        },
        "id": "ggQTEVZbDnLu",
        "outputId": "4801ebdb-4a71-427c-f12d-047feab0bb8f"
      },
      "outputs": [
        {
          "name": "stdout",
          "output_type": "stream",
          "text": [
            "  Protein_Name UniProt_ID  Modified_Position         PTM_Type  \\\n",
            "0   MYSC_ACACA     P10569                311  Phosphorylation   \n",
            "1   MYSB_ACACA     P19706                315  Phosphorylation   \n",
            "2  14333_ARATH     P42644                162  Phosphorylation   \n",
            "3  14333_ARATH     P42644                238  Phosphorylation   \n",
            "4  14335_ARATH     P42645                267  Phosphorylation   \n",
            "\n",
            "                                          PubMed_IDs         Local_Sequence  \n",
            "0                                            2530230  TTGEQGRGRSSVYSCPQDPLG  \n",
            "1                                            2530230  NTGGAGAKKMSTYNVPQNVEQ  \n",
            "2                         30395287;22092075;25561503  VAYKSASDIATAELAPTHPIR  \n",
            "3  30291188;24924143;30395287;19880383;20466843;2...  DNLTLWTSDMTDEAGDEIKEA  \n",
            "4  30291188;23776212;19376835;27531888;30395287;2...           KVDEQAQPPPSQ  \n"
          ]
        }
      ],
      "source": [
        "my_ptms = [\"Phosphorylation\", \"Acetylation\", \"Ubiquitination\", \"Methylation\", \"Sumoylation\"]\n",
        "phospho_df = load_and_preprocess_ptm_file(\"Phosphorylation\", ptm_types=my_ptms)\n",
        "print(phospho_df.head())"
      ]
    },
    {
      "cell_type": "code",
      "execution_count": null,
      "metadata": {
        "id": "aAAZ6j6MmJUj"
      },
      "outputs": [],
      "source": [
        "\n",
        "# phospho_df = load_and_preprocess_ptm_file(\"Phosphorylation\", ptm_types=my_ptms)\n",
        "acetyl_df = load_and_preprocess_ptm_file(\"Acetylation\", ptm_types=my_ptms)\n",
        "ubiq_df = load_and_preprocess_ptm_file(\"Ubiquitination\", ptm_types=my_ptms)\n",
        "methy_df = load_and_preprocess_ptm_file(\"Methylation\", ptm_types=my_ptms)\n",
        "sumoy_df = load_and_preprocess_ptm_file(\"Sumoylation\", ptm_types=my_ptms)\n",
        "\n",
        "\n",
        "all_ptms = pd.concat([phospho_df, acetyl_df, ubiq_df, methy_df, sumoy_df], ignore_index=True)\n"
      ]
    },
    {
      "cell_type": "code",
      "execution_count": null,
      "metadata": {
        "colab": {
          "base_uri": "https://localhost:8080/"
        },
        "id": "mg0__uTFEyqB",
        "outputId": "3abe91b8-457a-4c83-b154-d5590b991fb4"
      },
      "outputs": [
        {
          "name": "stdout",
          "output_type": "stream",
          "text": [
            "        Protein_Name UniProt_ID  Modified_Position         PTM_Type  \\\n",
            "0         MYSC_ACACA     P10569                311  Phosphorylation   \n",
            "1         MYSB_ACACA     P19706                315  Phosphorylation   \n",
            "2        14333_ARATH     P42644                162  Phosphorylation   \n",
            "3        14333_ARATH     P42644                238  Phosphorylation   \n",
            "4        14335_ARATH     P42645                267  Phosphorylation   \n",
            "...              ...        ...                ...              ...   \n",
            "2123238   ZSC9_HUMAN     O15535                215      Sumoylation   \n",
            "2123239   ZSC9_HUMAN     O15535                238      Sumoylation   \n",
            "2123240   ZZZ3_HUMAN     Q8IYH5                276      Sumoylation   \n",
            "2123241   ZZZ3_HUMAN     Q8IYH5                647      Sumoylation   \n",
            "2123242   ZZZ3_HUMAN     Q8IYH5                708      Sumoylation   \n",
            "\n",
            "                                                PubMed_IDs  \\\n",
            "0                                                  2530230   \n",
            "1                                                  2530230   \n",
            "2                               30395287;22092075;25561503   \n",
            "3        30291188;24924143;30395287;19880383;20466843;2...   \n",
            "4        30291188;23776212;19376835;27531888;30395287;2...   \n",
            "...                                                    ...   \n",
            "2123238                                           28112733   \n",
            "2123239                                           28112733   \n",
            "2123240                                           28112733   \n",
            "2123241                                  28112733;25755297   \n",
            "2123242                                  28112733;25755297   \n",
            "\n",
            "                Local_Sequence  \n",
            "0        TTGEQGRGRSSVYSCPQDPLG  \n",
            "1        NTGGAGAKKMSTYNVPQNVEQ  \n",
            "2        VAYKSASDIATAELAPTHPIR  \n",
            "3        DNLTLWTSDMTDEAGDEIKEA  \n",
            "4                 KVDEQAQPPPSQ  \n",
            "...                        ...  \n",
            "2123238  DCPKIVEPHGKMFNEQTWEVS  \n",
            "2123239  DPSHGEVGEHKDRIERQWGNL  \n",
            "2123240  VPCTDSQVQVKLEDHKIVTAC  \n",
            "2123241  MIRGRLCDDTKPETFNQLWTV  \n",
            "2123242  RVQKYFIKLTKAGIPVPGRTP  \n",
            "\n",
            "[2123243 rows x 6 columns]\n"
          ]
        }
      ],
      "source": [
        "print(all_ptms)"
      ]
    },
    {
      "cell_type": "code",
      "execution_count": null,
      "metadata": {
        "colab": {
          "base_uri": "https://localhost:8080/"
        },
        "id": "4Ij0DxrWFhQP",
        "outputId": "8f7474a2-4bbd-449b-df99-5eaa42a1647a"
      },
      "outputs": [
        {
          "name": "stdout",
          "output_type": "stream",
          "text": [
            "Collecting biopython\n",
            "  Downloading biopython-1.85-cp311-cp311-manylinux_2_17_x86_64.manylinux2014_x86_64.whl.metadata (13 kB)\n",
            "Requirement already satisfied: numpy in /usr/local/lib/python3.11/dist-packages (from biopython) (2.0.2)\n",
            "Downloading biopython-1.85-cp311-cp311-manylinux_2_17_x86_64.manylinux2014_x86_64.whl (3.3 MB)\n",
            "\u001b[2K   \u001b[90m━━━━━━━━━━━━━━━━━━━━━━━━━━━━━━━━━━━━━━━━\u001b[0m \u001b[32m3.3/3.3 MB\u001b[0m \u001b[31m27.4 MB/s\u001b[0m eta \u001b[36m0:00:00\u001b[0m\n",
            "\u001b[?25hInstalling collected packages: biopython\n",
            "Successfully installed biopython-1.85\n"
          ]
        }
      ],
      "source": [
        "!pip install biopython"
      ]
    },
    {
      "cell_type": "code",
      "execution_count": null,
      "metadata": {
        "id": "DfEoFHaIFYUu"
      },
      "outputs": [],
      "source": [
        "from Bio import SeqIO\n",
        "def load_uniprot_fasta(fasta_path):\n",
        "    seq_dict = {}\n",
        "    for record in SeqIO.parse(fasta_path, \"fasta\"):\n",
        "        uniprot_id = record.id.split(\"|\")[1] if \"|\" in record.id else record.id\n",
        "        seq_dict[uniprot_id] = str(record.seq)\n",
        "    return seq_dict\n",
        "\n",
        "def map_ptms_to_sequences(ptm_df, seq_dict):\n",
        "    ptm_df[\"Full_Sequence\"] = ptm_df[\"UniProt_ID\"].map(seq_dict)\n",
        "\n",
        "    def extract_window(row, window_size=10):\n",
        "        seq = row[\"Full_Sequence\"]\n",
        "        pos = int(row[\"Modified_Position\"]) - 1  \n",
        "        if pd.isna(seq) or pos < 0 or pos >= len(seq):\n",
        "            return None\n",
        "        start = max(0, pos - window_size)\n",
        "        end = min(len(seq), pos + window_size + 1)\n",
        "        return seq[start:end]\n",
        "\n",
        "    ptm_df[\"Sequence_Window\"] = ptm_df.apply(extract_window, axis=1)\n",
        "    return ptm_df\n"
      ]
    },
    {
      "cell_type": "code",
      "execution_count": null,
      "metadata": {
        "colab": {
          "base_uri": "https://localhost:8080/"
        },
        "id": "xwWE2iIsFbC_",
        "outputId": "b1915aea-87d7-43df-8c56-de59f36d3b30"
      },
      "outputs": [
        {
          "name": "stdout",
          "output_type": "stream",
          "text": [
            "        Protein_Name UniProt_ID  Modified_Position         PTM_Type  \\\n",
            "0         MYSC_ACACA     P10569                311  Phosphorylation   \n",
            "1         MYSB_ACACA     P19706                315  Phosphorylation   \n",
            "2        14333_ARATH     P42644                162  Phosphorylation   \n",
            "3        14333_ARATH     P42644                238  Phosphorylation   \n",
            "4        14335_ARATH     P42645                267  Phosphorylation   \n",
            "...              ...        ...                ...              ...   \n",
            "2123238   ZSC9_HUMAN     O15535                215      Sumoylation   \n",
            "2123239   ZSC9_HUMAN     O15535                238      Sumoylation   \n",
            "2123240   ZZZ3_HUMAN     Q8IYH5                276      Sumoylation   \n",
            "2123241   ZZZ3_HUMAN     Q8IYH5                647      Sumoylation   \n",
            "2123242   ZZZ3_HUMAN     Q8IYH5                708      Sumoylation   \n",
            "\n",
            "                                                PubMed_IDs  \\\n",
            "0                                                  2530230   \n",
            "1                                                  2530230   \n",
            "2                               30395287;22092075;25561503   \n",
            "3        30291188;24924143;30395287;19880383;20466843;2...   \n",
            "4        30291188;23776212;19376835;27531888;30395287;2...   \n",
            "...                                                    ...   \n",
            "2123238                                           28112733   \n",
            "2123239                                           28112733   \n",
            "2123240                                           28112733   \n",
            "2123241                                  28112733;25755297   \n",
            "2123242                                  28112733;25755297   \n",
            "\n",
            "                Local_Sequence  \\\n",
            "0        TTGEQGRGRSSVYSCPQDPLG   \n",
            "1        NTGGAGAKKMSTYNVPQNVEQ   \n",
            "2        VAYKSASDIATAELAPTHPIR   \n",
            "3        DNLTLWTSDMTDEAGDEIKEA   \n",
            "4                 KVDEQAQPPPSQ   \n",
            "...                        ...   \n",
            "2123238  DCPKIVEPHGKMFNEQTWEVS   \n",
            "2123239  DPSHGEVGEHKDRIERQWGNL   \n",
            "2123240  VPCTDSQVQVKLEDHKIVTAC   \n",
            "2123241  MIRGRLCDDTKPETFNQLWTV   \n",
            "2123242  RVQKYFIKLTKAGIPVPGRTP   \n",
            "\n",
            "                                             Full_Sequence  \\\n",
            "0        MAYTSKHGVDDMVMLTSISNDAINDNLKKRFAADLIYTYIGHVLIS...   \n",
            "1        MGKAAVEQRGVDDLVLMPKITEQDICANLEKRYFNDLIYTNIGPVL...   \n",
            "2        MSTREENVYMAKLAEQAERYEEMVEFMEKVAKTVDVEELSVEERNL...   \n",
            "3        MSTREENVYMAKLAEQAERYEEMVEFMEKVAKTVDVEELSVEERNL...   \n",
            "4        MSSDSSREENVYLAKLAEQAERYEEMVEFMEKVAKTVETEELTVEE...   \n",
            "...                                                    ...   \n",
            "2123238  MNTNSKEVLSLGVQVPEAWEELLTMKVEAKSHLQWQESRLKRSNPL...   \n",
            "2123239  MNTNSKEVLSLGVQVPEAWEELLTMKVEAKSHLQWQESRLKRSNPL...   \n",
            "2123240  MAASRSTRVTRSTVGLNGLDESFCGRTLRNRSIAHPEEISSNSQVR...   \n",
            "2123241  MAASRSTRVTRSTVGLNGLDESFCGRTLRNRSIAHPEEISSNSQVR...   \n",
            "2123242  MAASRSTRVTRSTVGLNGLDESFCGRTLRNRSIAHPEEISSNSQVR...   \n",
            "\n",
            "               Sequence_Window  \n",
            "0        TTGEQGRGRSSVYSCPQDPLG  \n",
            "1        NTGGAGAKKMSTYNVPQNVEQ  \n",
            "2        VAYKSASDIATAELAPTHPIR  \n",
            "3        DNLTLWTSDMTDEAGDEIKEA  \n",
            "4                 KVDEQAQPPPSQ  \n",
            "...                        ...  \n",
            "2123238  DCPKIVEPHGKMFNEQTWEVS  \n",
            "2123239  DPSHGEVGEHKDRIERQWGNL  \n",
            "2123240  VPCTDSQVQVKLEDHKIVTAC  \n",
            "2123241  MIRGRLCDDTKPETFNQLWTV  \n",
            "2123242  RVQKYFIKLTKAGIPVPGRTP  \n",
            "\n",
            "[2123243 rows x 8 columns]\n"
          ]
        }
      ],
      "source": [
        "seqs = load_uniprot_fasta(\"uniprot_sprot.fasta\")\n",
        "ptm_df = map_ptms_to_sequences(all_ptms, seqs)\n",
        "print(ptm_df)"
      ]
    },
    {
      "cell_type": "code",
      "execution_count": null,
      "metadata": {
        "id": "uUGxqS1RGrQt"
      },
      "outputs": [],
      "source": [
        "ptm_df.to_csv(\"all_ptms_fullsequences\")"
      ]
    }
  ],
  "metadata": {
    "accelerator": "GPU",
    "colab": {
      "gpuType": "T4",
      "provenance": []
    },
    "kernelspec": {
      "display_name": "Python 3",
      "name": "python3"
    },
    "language_info": {
      "name": "python"
    }
  },
  "nbformat": 4,
  "nbformat_minor": 0
}
